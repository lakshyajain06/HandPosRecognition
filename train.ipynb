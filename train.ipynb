{
 "cells": [
  {
   "cell_type": "code",
   "execution_count": null,
   "id": "626c8e4e",
   "metadata": {},
   "outputs": [],
   "source": [
    "%matplotlib inline\n",
    "import tensorflow as tf\n",
    "import numpy as np\n",
    "import matplotlib.pyplot as plt\n",
    "from sys import stdout\n",
    "\n",
    "from network import HandModel\n",
    "from process_data import get_data_set, get_num_batches\n"
   ]
  },
  {
   "cell_type": "code",
   "execution_count": null,
   "id": "7f19552c",
   "metadata": {},
   "outputs": [],
   "source": [
    "model = HandModel()\n",
    "completedEpochs = 0\n",
    "dummy_input = tf.random.normal([1, 368, 368, 3])\n",
    "_ = model(dummy_input)\n",
    "\n",
    "# model.load_weights('vgg19_pretrain_synth_dataset_epoch10_rate_5e-5.h5')\n",
    "\n",
    "optimizer = tf.keras.optimizers.Adam(learning_rate=5e-5)\n",
    "\n",
    "train_loss = tf.keras.metrics.Mean(name='train_loss')\n",
    "\n",
    "train_data, val_data = get_data_set()\n",
    "num_batches = get_num_batches()"
   ]
  },
  {
   "cell_type": "code",
   "execution_count": null,
   "id": "36ef5f47",
   "metadata": {},
   "outputs": [],
   "source": [
    "for image, label in train_data.take(1):\n",
    "    img_array = image.numpy()\n",
    "    lbl = label.numpy()\n",
    "    print(lbl[0][:, :, 0])"
   ]
  },
  {
   "cell_type": "code",
   "execution_count": null,
   "id": "f74aa343",
   "metadata": {},
   "outputs": [],
   "source": [
    "model.feature_extraction.summary()"
   ]
  },
  {
   "cell_type": "code",
   "execution_count": null,
   "id": "42c1f6c0",
   "metadata": {},
   "outputs": [],
   "source": [
    "copy_model = tf.keras.applications.VGG19(False, input_shape=(368, 368, 3), pooling='avg')\n",
    "copy_model.summary()"
   ]
  },
  {
   "cell_type": "code",
   "execution_count": null,
   "id": "224bdc32",
   "metadata": {},
   "outputs": [],
   "source": [
    "for i in range(1, 16):\n",
    "    print(copy_model.layers[i].name)\n",
    "    print(model.feature_extraction.layers[i - 1].name)\n",
    "    print(model.feature_extraction.layers[i - 1].get_weights())\n",
    "    model.feature_extraction.layers[i - 1].set_weights(copy_model.layers[i].get_weights())\n",
    "    print(model.feature_extraction.layers[i - 1].get_weights())"
   ]
  },
  {
   "cell_type": "code",
   "execution_count": null,
   "id": "bea5707f",
   "metadata": {},
   "outputs": [],
   "source": [
    "def compute_loss(y_pred, intermediate_pred, y):\n",
    "    loss_object = tf.keras.losses.MeanSquaredError()\n",
    "    final_loss = loss_object(y, y_pred)\n",
    "    total_loss = final_loss\n",
    "    for i in range(len(intermediate_pred)):\n",
    "        total_loss += loss_object(y, intermediate_pred[i])\n",
    "    \n",
    "    return final_loss, total_loss"
   ]
  },
  {
   "cell_type": "code",
   "execution_count": null,
   "id": "f8abc7e7",
   "metadata": {},
   "outputs": [],
   "source": [
    "@tf.function\n",
    "def train_step(x, y):\n",
    "    with tf.GradientTape() as tape:\n",
    "        y_pred, y_intermediate = model(x)\n",
    "        fin_loss, total_loss = compute_loss(y_pred, y_intermediate, y)\n",
    "\n",
    "    gradients = tape.gradient(total_loss, model.trainable_variables)\n",
    "    optimizer.apply_gradients(zip(gradients, model.trainable_variables))\n",
    "\n",
    "    return fin_loss, total_loss"
   ]
  },
  {
   "cell_type": "code",
   "execution_count": null,
   "id": "63392457",
   "metadata": {},
   "outputs": [],
   "source": [
    "try:\n",
    "        \n",
    "    for epoch in range(20):\n",
    "        train_loss.reset_state()\n",
    "\n",
    "\n",
    "        for batch_num, (x_batch, y_batch) in enumerate(train_data):\n",
    "            fin_loss, total_loss = train_step(x_batch, y_batch)\n",
    "            train_loss(total_loss)\n",
    "            print(f\"\\rProgress: {batch_num + 1}/{num_batches}\", end='', flush=True)\n",
    "\n",
    "        print()\n",
    "\n",
    "        curr_loss = train_loss.result()\n",
    "\n",
    "        print(f\"Epoch {epoch + 1} ----- Loss: {curr_loss}\")\n",
    "\n",
    "        if curr_loss < 0.0001:\n",
    "            print(\"Finished training, ended early\")\n",
    "            break\n",
    "except KeyboardInterrupt:\n",
    "    print(\"Stopping Training, saving weights\")\n",
    "    model.save(\"vgg19_train_full_dataset.h5\")\n"
   ]
  },
  {
   "cell_type": "code",
   "execution_count": null,
   "id": "5c118ccc",
   "metadata": {},
   "outputs": [],
   "source": [
    "model.save(\"vgg19_pretrain_synth_dataset_epoch10_rate_5e-5.h5\")"
   ]
  },
  {
   "cell_type": "code",
   "execution_count": null,
   "id": "8dd51739",
   "metadata": {},
   "outputs": [],
   "source": [
    "from visualize_data import visualize_combined_map\n",
    "from process_data import load_img_and_pos_with_num, create_heat_map"
   ]
  },
  {
   "cell_type": "code",
   "execution_count": null,
   "id": "dfff58f3",
   "metadata": {},
   "outputs": [],
   "source": [
    "fig, axes = plt.subplots(1, 3, figsize=(15,15))\n",
    "\n",
    "index = np.random.randint(3000)\n",
    "\n",
    "test_x, test_handpos, _ = load_img_and_pos_with_num(index)\n",
    "test_y = create_heat_map(test_handpos)\n",
    "\n",
    "test_x = np.expand_dims(test_x, axis = 0)\n",
    "\n",
    "y_pred, _ = model(test_x)\n",
    "\n",
    "test_handpos = test_handpos.T\n",
    "axes[0].imshow(test_x[0])\n",
    "axes[0].scatter(test_handpos[0], test_handpos[1], color='green', s=50)\n",
    "test_handpos = test_handpos.T\n",
    "\n",
    "visualize_combined_map(test_x[0], test_y, axes[1])\n",
    "visualize_combined_map(test_x[0], y_pred[0, :, :, :-1], axes[2])\n",
    "\n",
    "\n",
    "plt.tight_layout()\n",
    "plt.show()"
   ]
  },
  {
   "cell_type": "code",
   "execution_count": null,
   "id": "faf5adfa",
   "metadata": {},
   "outputs": [],
   "source": [
    "dummy_input = tf.random.normal((1, 368, 368, 3))\n",
    "model1 = HandModel()\n",
    "model1(dummy_input)\n",
    "model1.load_weights(\"good progress models/vgg19_train_full_dataset2.h5\")\n",
    "model2 = HandModel()\n",
    "model2(dummy_input)\n",
    "model2.load_weights(\"good progress models/vgg19_train_full_dataset4.h5\")"
   ]
  },
  {
   "cell_type": "code",
   "execution_count": null,
   "id": "c4dd55eb",
   "metadata": {},
   "outputs": [],
   "source": [
    "fig, axes = plt.subplots(4, 11, figsize=(15,15))\n",
    "\n",
    "index = np.random.randint(3000)\n",
    "\n",
    "test_x, test_handpos, _ = load_img_and_pos_with_num(index)\n",
    "test_y = create_heat_map(test_handpos)\n",
    "\n",
    "test_x = np.expand_dims(test_x, axis = 0)\n",
    "\n",
    "y_pred1, _ = model1(test_x)\n",
    "y_pred2, _ = model2(test_x)\n",
    "\n",
    "\n",
    "for i, ax in enumerate(list(axes.flat)):\n",
    "    if i%2 == 0:\n",
    "        ax.imshow(y_pred1[0, :, :, i//2], cmap='gray')\n",
    "    else:\n",
    "        ax.imshow(y_pred2[0, :, :, i//2], cmap='gray')\n",
    "    \n",
    "    ax.axis('off')\n",
    "\n",
    "\n",
    "plt.tight_layout()\n",
    "plt.show()"
   ]
  },
  {
   "cell_type": "code",
   "execution_count": null,
   "id": "07e15a95",
   "metadata": {},
   "outputs": [],
   "source": [
    "import matplotlib.image as img"
   ]
  },
  {
   "cell_type": "code",
   "execution_count": null,
   "id": "8c1660dd",
   "metadata": {},
   "outputs": [],
   "source": [
    "fig, axes = plt.subplots(1, 2, figsize=(15,15))\n",
    "\n",
    "img_path = \"test_photo.jpeg\"\n",
    "\n",
    "test_x = img.imread(img_path)\n",
    "\n",
    "test_x = np.expand_dims(test_x, axis = 0)\n",
    "\n",
    "y_pred, _ = model(test_x)\n",
    "\n",
    "axes[0].imshow(test_x[0])\n",
    "\n",
    "visualize_combined_map(test_x[0], y_pred[0, :, :, :-1], axes[1])\n",
    "\n",
    "\n",
    "plt.tight_layout()\n",
    "plt.show()"
   ]
  },
  {
   "cell_type": "code",
   "execution_count": null,
   "id": "a7cda4f9",
   "metadata": {},
   "outputs": [],
   "source": [
    "fig, axes = plt.subplots(3, 7, figsize=(15,15))\n",
    "\n",
    "for i, ax in enumerate(list(axes.flat)):\n",
    "    ax.imshow(y_pred[0, :, :, i], cmap='gray')\n",
    "    \n",
    "    ax.axis('off')\n",
    "\n",
    "\n",
    "plt.tight_layout()\n",
    "plt.show()"
   ]
  }
 ],
 "metadata": {
  "kernelspec": {
   "display_name": "tensorflow",
   "language": "python",
   "name": "python3"
  },
  "language_info": {
   "codemirror_mode": {
    "name": "ipython",
    "version": 3
   },
   "file_extension": ".py",
   "mimetype": "text/x-python",
   "name": "python",
   "nbconvert_exporter": "python",
   "pygments_lexer": "ipython3",
   "version": "3.11.13"
  }
 },
 "nbformat": 4,
 "nbformat_minor": 5
}
